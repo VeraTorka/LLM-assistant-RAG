{
 "cells": [
  {
   "cell_type": "code",
   "execution_count": 413,
   "id": "61fe6b20-c1bb-43bd-b3d3-600397ce2e40",
   "metadata": {},
   "outputs": [],
   "source": [
    "##Data Set Ingestion and Cleaning"
   ]
  },
  {
   "cell_type": "code",
   "execution_count": 490,
   "id": "cfb441a5-3cc2-43eb-8f19-e036129f8c85",
   "metadata": {},
   "outputs": [],
   "source": [
    "import pandas as pd"
   ]
  },
  {
   "cell_type": "code",
   "execution_count": 491,
   "id": "6ac90e00-ce37-4331-8119-e15b40ee0c54",
   "metadata": {},
   "outputs": [],
   "source": [
    "df=pd.read_csv('../data/data.csv')"
   ]
  },
  {
   "cell_type": "code",
   "execution_count": 492,
   "id": "342cfa4b-8164-4405-9b0d-8d8b9b285c32",
   "metadata": {},
   "outputs": [],
   "source": [
    "##Data Set Indexing"
   ]
  },
  {
   "cell_type": "code",
   "execution_count": 493,
   "id": "a5d01345-fcff-42f2-a65d-3b112625f0a9",
   "metadata": {},
   "outputs": [
    {
     "name": "stdout",
     "output_type": "stream",
     "text": [
      "--2025-09-11 18:54:06--  https://raw.githubusercontent.com/alexeygrigorev/minsearch/refs/heads/main/minsearch.py\n",
      "Resolving raw.githubusercontent.com (raw.githubusercontent.com)... 185.199.108.133, 185.199.110.133, 185.199.111.133, ...\n",
      "Connecting to raw.githubusercontent.com (raw.githubusercontent.com)|185.199.108.133|:443... connected.\n",
      "HTTP request sent, awaiting response... 200 OK\n",
      "Length: 4273 (4.2K) [text/plain]\n",
      "Saving to: ‘minsearch.py.1’\n",
      "\n",
      "minsearch.py.1      100%[===================>]   4.17K  --.-KB/s    in 0s      \n",
      "\n",
      "2025-09-11 18:54:06 (54.5 MB/s) - ‘minsearch.py.1’ saved [4273/4273]\n",
      "\n"
     ]
    }
   ],
   "source": [
    "! wget https://raw.githubusercontent.com/alexeygrigorev/minsearch/refs/heads/main/minsearch.py"
   ]
  },
  {
   "cell_type": "code",
   "execution_count": 494,
   "id": "e06f7fb2-b897-46f4-a1e2-d25b9f16a5a5",
   "metadata": {},
   "outputs": [],
   "source": [
    "documents=df.to_dict(orient='records')"
   ]
  },
  {
   "cell_type": "code",
   "execution_count": 495,
   "id": "c1deb908-b2a4-4f03-bdf9-40fddf3feeaa",
   "metadata": {},
   "outputs": [],
   "source": [
    "cleaned_docs = []\n",
    "for doc in documents:\n",
    "    clean_doc = {}\n",
    "    for k, v in doc.items():\n",
    "        if v is None:  # None → пустая строка или 0\n",
    "            clean_doc[k] = \"\" if isinstance(v, str) else 0\n",
    "        elif isinstance(v, float):\n",
    "            import math\n",
    "            clean_doc[k] = \"\" if math.isnan(v) else v\n",
    "        else:\n",
    "            clean_doc[k] = v\n",
    "    cleaned_docs.append(clean_doc)\n",
    "\n",
    "documents = cleaned_docs"
   ]
  },
  {
   "cell_type": "code",
   "execution_count": 461,
   "id": "a9ac35fb-fce6-4327-afb2-bb12e1215a18",
   "metadata": {},
   "outputs": [],
   "source": [
    "import minsearch"
   ]
  },
  {
   "cell_type": "code",
   "execution_count": 496,
   "id": "5fe265f6-ea27-4c1a-9f50-460cd310c0d4",
   "metadata": {},
   "outputs": [],
   "source": [
    "index = minsearch.Index(\n",
    "    text_fields=['food', 'serving_size_g', 'calories_kcal', 'protein_g', 'fat_g',\n",
    "       'carbohydrates_g', 'vitamin_a_mg', 'vitamin_b6_mg', 'vitamin_b12_mg',\n",
    "       'vitamin_c_mg', 'vitamin_d_mg', 'vitamin_e_mg', 'calcium_mg', 'iron_mg',\n",
    "       'potassium_mg', 'magnesium_mg', 'selenium_mg', 'zinc_mg', 'iodine_mg',\n",
    "       'allergens'],\n",
    "    keyword_fields=['id']\n",
    ")"
   ]
  },
  {
   "cell_type": "code",
   "execution_count": 497,
   "id": "63e9453a-aa38-4d92-ac71-8ba8aa239732",
   "metadata": {},
   "outputs": [
    {
     "data": {
      "text/plain": [
       "<minsearch.Index at 0x7a1b0e9090d0>"
      ]
     },
     "execution_count": 497,
     "metadata": {},
     "output_type": "execute_result"
    }
   ],
   "source": [
    "index.fit(documents)"
   ]
  },
  {
   "cell_type": "code",
   "execution_count": 498,
   "id": "cbb4dcb0-b094-418b-9244-016a7034d3a5",
   "metadata": {},
   "outputs": [],
   "source": [
    "##RAG Flow"
   ]
  },
  {
   "cell_type": "code",
   "execution_count": 499,
   "id": "f97c8668-1012-4a9f-98fa-9061110fe3ce",
   "metadata": {},
   "outputs": [],
   "source": [
    "import os"
   ]
  },
  {
   "cell_type": "code",
   "execution_count": 500,
   "id": "80e64d85-fce7-4a7f-bc9a-c017e8b0aa3a",
   "metadata": {},
   "outputs": [],
   "source": [
    "from openai import OpenAI\n",
    "client = OpenAI()"
   ]
  },
  {
   "cell_type": "code",
   "execution_count": 501,
   "id": "f827d015-8b2b-491d-816e-e6f9993af0bc",
   "metadata": {},
   "outputs": [],
   "source": [
    "def search(query):\n",
    "    boost = {}\n",
    "\n",
    "    results = index.search(\n",
    "        query=query,\n",
    "        filter_dict={},\n",
    "        boost_dict=boost,\n",
    "\n",
    "    )\n",
    "\n",
    "    return results"
   ]
  },
  {
   "cell_type": "code",
   "execution_count": 502,
   "id": "bde50b7b-7853-476e-9701-1c826b3128d3",
   "metadata": {},
   "outputs": [],
   "source": [
    "prompt_template = \"\"\"\n",
    "You are a nutrition assistant. Answer the QUESTION based on the CONTEXT from the food database. \n",
    "QUESTION: {question}\n",
    "CONTEXT: {context}\n",
    "\"\"\".strip()\n",
    "\n",
    "entry_template = \"\"\"\n",
    "food: {food}\n",
    "serving_size_g: {serving_size_g}\n",
    "calories_kcal: {calories_kcal}\n",
    "protein_g: {protein_g}\n",
    "fat_g: {fat_g}\n",
    "carbohydrates_g: {carbohydrates_g}\n",
    "vitamin_a_mg: {vitamin_a_mg}\n",
    "vitamin_b6_mg: {vitamin_b6_mg}\n",
    "vitamin_b12_mg: {vitamin_b12_mg}\n",
    "vitamin_c_mg: {vitamin_c_mg}\n",
    "vitamin_d_mg: {vitamin_d_mg}\n",
    "vitamin_e_mg: {vitamin_e_mg}\n",
    "calcium_mg: {calcium_mg}\n",
    "iron_mg: {iron_mg}\n",
    "potassium_mg: {potassium_mg}\n",
    "magnesium_mg: {magnesium_mg}\n",
    "selenium_mg: {selenium_mg}\n",
    "zinc_mg: {zinc_mg}\n",
    "iodine_mg: {iodine_mg}\n",
    "allergens: {allergens}\n",
    "\"\"\".strip()\n",
    "\n",
    "\n",
    "def build_prompt(query, search_results):\n",
    "    context = \"\"\n",
    "    \n",
    "    for doc in search_results:\n",
    "        context = context + entry_template.format(**doc) + \"\\n\\n\"\n",
    "\n",
    "    prompt = prompt_template.format(question=query, context=context).strip()\n",
    "    return prompt\n"
   ]
  },
  {
   "cell_type": "code",
   "execution_count": 503,
   "id": "017a5c6e-c7e2-42ac-8a8a-24a4b2f8d5d8",
   "metadata": {},
   "outputs": [],
   "source": [
    "def llm(prompt, model='gpt-4o-mini'):\n",
    "    response = client.chat.completions.create(\n",
    "        model=model,\n",
    "        messages=[{\"role\": \"user\", \"content\": prompt}]\n",
    "    )\n",
    "    \n",
    "    return response.choices[0].message.content"
   ]
  },
  {
   "cell_type": "code",
   "execution_count": 504,
   "id": "bc7cdcf0-a851-4c6b-a81f-3f49b31c7eed",
   "metadata": {},
   "outputs": [],
   "source": [
    "def rag(query, model='gpt-4o-mini'):\n",
    "    search_results = search(query)\n",
    "    prompt = build_prompt(query, search_results)\n",
    "    #print(prompt)\n",
    "    answer = llm(prompt, model=model)\n",
    "    return answer"
   ]
  },
  {
   "cell_type": "code",
   "execution_count": 505,
   "id": "b80504f9-3b07-44f2-ac24-e83fa3528de7",
   "metadata": {},
   "outputs": [
    {
     "name": "stdout",
     "output_type": "stream",
     "text": [
      "Based on the provided context, the meat with no allergens and the least calories is **Goat meat** with 109 calories per 100 grams.\n"
     ]
    }
   ],
   "source": [
    "question = 'Which meat has no allergen and have less calories'\n",
    "answer = rag(question)\n",
    "print(answer)"
   ]
  },
  {
   "cell_type": "code",
   "execution_count": 472,
   "id": "b5bed6e4-37e2-47c2-a997-7561f77c2e57",
   "metadata": {},
   "outputs": [],
   "source": [
    "##Retrieval evaluation"
   ]
  },
  {
   "cell_type": "code",
   "execution_count": 506,
   "id": "2d24149a-48ed-450f-be9a-9eb8f1a6eb1b",
   "metadata": {},
   "outputs": [],
   "source": [
    "df_question = pd.read_csv('../data/ground-truth-retrieval.csv')"
   ]
  },
  {
   "cell_type": "code",
   "execution_count": 507,
   "id": "26d9dfd1-6fa2-4702-872f-7ad2030f5814",
   "metadata": {},
   "outputs": [
    {
     "data": {
      "text/html": [
       "<div>\n",
       "<style scoped>\n",
       "    .dataframe tbody tr th:only-of-type {\n",
       "        vertical-align: middle;\n",
       "    }\n",
       "\n",
       "    .dataframe tbody tr th {\n",
       "        vertical-align: top;\n",
       "    }\n",
       "\n",
       "    .dataframe thead th {\n",
       "        text-align: right;\n",
       "    }\n",
       "</style>\n",
       "<table border=\"1\" class=\"dataframe\">\n",
       "  <thead>\n",
       "    <tr style=\"text-align: right;\">\n",
       "      <th></th>\n",
       "      <th>id</th>\n",
       "      <th>question</th>\n",
       "    </tr>\n",
       "  </thead>\n",
       "  <tbody>\n",
       "    <tr>\n",
       "      <th>0</th>\n",
       "      <td>1</td>\n",
       "      <td>What is the protein content in 100 grams of ra...</td>\n",
       "    </tr>\n",
       "    <tr>\n",
       "      <th>1</th>\n",
       "      <td>1</td>\n",
       "      <td>How many calories are there in a 100-gram serv...</td>\n",
       "    </tr>\n",
       "    <tr>\n",
       "      <th>2</th>\n",
       "      <td>1</td>\n",
       "      <td>Can you tell me the fat amount present in 100 ...</td>\n",
       "    </tr>\n",
       "    <tr>\n",
       "      <th>3</th>\n",
       "      <td>1</td>\n",
       "      <td>Is there any vitamin C in raw chicken breast, ...</td>\n",
       "    </tr>\n",
       "    <tr>\n",
       "      <th>4</th>\n",
       "      <td>1</td>\n",
       "      <td>What are the main allergens associated with ra...</td>\n",
       "    </tr>\n",
       "  </tbody>\n",
       "</table>\n",
       "</div>"
      ],
      "text/plain": [
       "   id                                           question\n",
       "0   1  What is the protein content in 100 grams of ra...\n",
       "1   1  How many calories are there in a 100-gram serv...\n",
       "2   1  Can you tell me the fat amount present in 100 ...\n",
       "3   1  Is there any vitamin C in raw chicken breast, ...\n",
       "4   1  What are the main allergens associated with ra..."
      ]
     },
     "execution_count": 507,
     "metadata": {},
     "output_type": "execute_result"
    }
   ],
   "source": [
    "df_question.head()"
   ]
  },
  {
   "cell_type": "code",
   "execution_count": 508,
   "id": "7abe2453-6bd1-4fcf-8922-375a0d423adc",
   "metadata": {},
   "outputs": [],
   "source": [
    "ground_truth = df_question.to_dict(orient='records')"
   ]
  },
  {
   "cell_type": "code",
   "execution_count": 509,
   "id": "1c3d5b88-abd0-4102-8859-eaa70a8ed4c9",
   "metadata": {},
   "outputs": [
    {
     "data": {
      "text/plain": [
       "{'id': 1,\n",
       " 'question': 'What is the protein content in 100 grams of raw, skinless chicken breast?'}"
      ]
     },
     "execution_count": 509,
     "metadata": {},
     "output_type": "execute_result"
    }
   ],
   "source": [
    "ground_truth[0]"
   ]
  },
  {
   "cell_type": "code",
   "execution_count": 510,
   "id": "ca2b0830-e134-4fb1-b74b-a4e6af266e6a",
   "metadata": {},
   "outputs": [],
   "source": [
    "def hit_rate(relevance_total):\n",
    "    cnt = 0\n",
    "\n",
    "    for line in relevance_total:\n",
    "        if True in line:\n",
    "            cnt = cnt + 1\n",
    "\n",
    "    return cnt / len(relevance_total)\n",
    "\n",
    "def mrr(relevance_total):\n",
    "    total_score = 0.0\n",
    "\n",
    "    for line in relevance_total:\n",
    "        for rank in range(len(line)):\n",
    "            if line[rank] == True:\n",
    "                total_score = total_score + 1 / (rank + 1)\n",
    "\n",
    "    return total_score / len(relevance_total)"
   ]
  },
  {
   "cell_type": "code",
   "execution_count": 511,
   "id": "a49622fb-08b7-444d-bc42-eb9557f38f69",
   "metadata": {},
   "outputs": [],
   "source": [
    "def minsearch_search(query):\n",
    "    boost = {}\n",
    "\n",
    "    results = index.search(\n",
    "        query=query,\n",
    "        filter_dict={},\n",
    "        boost_dict=boost,\n",
    "        num_results=10\n",
    "    )\n",
    "\n",
    "    return results"
   ]
  },
  {
   "cell_type": "code",
   "execution_count": 512,
   "id": "0e5e2838-11d0-46ae-a992-842fcab39e0a",
   "metadata": {},
   "outputs": [],
   "source": [
    "def evaluate(ground_truth, search_function):\n",
    "    relevance_total = []\n",
    "\n",
    "    for q in tqdm(ground_truth):\n",
    "        doc_id = q['id']\n",
    "        results = search_function(q)\n",
    "        relevance = [d['id'] == doc_id for d in results]\n",
    "        relevance_total.append(relevance)\n",
    "\n",
    "    return {\n",
    "        'hit_rate': hit_rate(relevance_total),\n",
    "        'mrr': mrr(relevance_total),\n",
    "    }"
   ]
  },
  {
   "cell_type": "code",
   "execution_count": 513,
   "id": "160aad19-28a6-4961-aba2-082e58c38e62",
   "metadata": {},
   "outputs": [],
   "source": [
    "from tqdm.auto import tqdm"
   ]
  },
  {
   "cell_type": "code",
   "execution_count": 514,
   "id": "326fdae1-8296-41d5-a132-6d25e94582b9",
   "metadata": {},
   "outputs": [
    {
     "data": {
      "application/vnd.jupyter.widget-view+json": {
       "model_id": "46b7fadfb7b642d5b56f308838c5dd9b",
       "version_major": 2,
       "version_minor": 0
      },
      "text/plain": [
       "  0%|          | 0/2480 [00:00<?, ?it/s]"
      ]
     },
     "metadata": {},
     "output_type": "display_data"
    },
    {
     "data": {
      "text/plain": [
       "{'hit_rate': 0.6471774193548387, 'mrr': 0.5518553187403998}"
      ]
     },
     "execution_count": 514,
     "metadata": {},
     "output_type": "execute_result"
    }
   ],
   "source": [
    "evaluate(ground_truth, lambda q: minsearch_search(q['question']))"
   ]
  },
  {
   "cell_type": "code",
   "execution_count": null,
   "id": "fe37f1e3-ec1d-4adf-9245-c0e9bed35e0c",
   "metadata": {},
   "outputs": [],
   "source": []
  }
 ],
 "metadata": {
  "kernelspec": {
   "display_name": "Python 3 (ipykernel)",
   "language": "python",
   "name": "python3"
  },
  "language_info": {
   "codemirror_mode": {
    "name": "ipython",
    "version": 3
   },
   "file_extension": ".py",
   "mimetype": "text/x-python",
   "name": "python",
   "nbconvert_exporter": "python",
   "pygments_lexer": "ipython3",
   "version": "3.12.3"
  }
 },
 "nbformat": 4,
 "nbformat_minor": 5
}
