{
 "cells": [
  {
   "cell_type": "code",
   "execution_count": 8,
   "id": "61fe6b20-c1bb-43bd-b3d3-600397ce2e40",
   "metadata": {},
   "outputs": [],
   "source": [
    "##Data Set Ingestion and Cleaning"
   ]
  },
  {
   "cell_type": "code",
   "execution_count": 9,
   "id": "cfb441a5-3cc2-43eb-8f19-e036129f8c85",
   "metadata": {},
   "outputs": [],
   "source": [
    "import pandas as pd"
   ]
  },
  {
   "cell_type": "code",
   "execution_count": 10,
   "id": "6ac90e00-ce37-4331-8119-e15b40ee0c54",
   "metadata": {},
   "outputs": [],
   "source": [
    "df=pd.read_csv('../data/data.csv')"
   ]
  },
  {
   "cell_type": "code",
   "execution_count": null,
   "id": "342cfa4b-8164-4405-9b0d-8d8b9b285c32",
   "metadata": {},
   "outputs": [],
   "source": [
    "##Data Set Indexing"
   ]
  },
  {
   "cell_type": "code",
   "execution_count": 4,
   "id": "a5d01345-fcff-42f2-a65d-3b112625f0a9",
   "metadata": {},
   "outputs": [
    {
     "name": "stdout",
     "output_type": "stream",
     "text": [
      "--2025-09-12 11:19:24--  https://raw.githubusercontent.com/alexeygrigorev/minsearch/refs/heads/main/minsearch.py\n",
      "Resolving raw.githubusercontent.com (raw.githubusercontent.com)... 185.199.108.133, 185.199.109.133, 185.199.110.133, ...\n",
      "Connecting to raw.githubusercontent.com (raw.githubusercontent.com)|185.199.108.133|:443... connected.\n",
      "HTTP request sent, awaiting response... 200 OK\n",
      "Length: 4273 (4.2K) [text/plain]\n",
      "Saving to: ‘minsearch.py’\n",
      "\n",
      "minsearch.py        100%[===================>]   4.17K  --.-KB/s    in 0s      \n",
      "\n",
      "2025-09-12 11:19:24 (58.3 MB/s) - ‘minsearch.py’ saved [4273/4273]\n",
      "\n"
     ]
    }
   ],
   "source": [
    "! wget https://raw.githubusercontent.com/alexeygrigorev/minsearch/refs/heads/main/minsearch.py"
   ]
  },
  {
   "cell_type": "code",
   "execution_count": 11,
   "id": "e06f7fb2-b897-46f4-a1e2-d25b9f16a5a5",
   "metadata": {},
   "outputs": [],
   "source": [
    "documents=df.to_dict(orient='records')"
   ]
  },
  {
   "cell_type": "code",
   "execution_count": 12,
   "id": "c1deb908-b2a4-4f03-bdf9-40fddf3feeaa",
   "metadata": {},
   "outputs": [],
   "source": [
    "cleaned_docs = []\n",
    "for doc in documents:\n",
    "    clean_doc = {}\n",
    "    for k, v in doc.items():\n",
    "        if v is None:  # None → пустая строка или 0\n",
    "            clean_doc[k] = \"\" if isinstance(v, str) else 0\n",
    "        elif isinstance(v, float):\n",
    "            import math\n",
    "            clean_doc[k] = \"\" if math.isnan(v) else v\n",
    "        else:\n",
    "            clean_doc[k] = v\n",
    "    cleaned_docs.append(clean_doc)\n",
    "\n",
    "documents = cleaned_docs"
   ]
  },
  {
   "cell_type": "code",
   "execution_count": 13,
   "id": "a9ac35fb-fce6-4327-afb2-bb12e1215a18",
   "metadata": {},
   "outputs": [
    {
     "name": "stderr",
     "output_type": "stream",
     "text": [
      "/workspaces/LLM-assistant-RAG/notebooks/minsearch.py:10: UserWarning: Now minsearch is installable via pip: 'pip install minsearch'. Remove the downloaded file and re-install it with pip.\n",
      "  warnings.warn(\n"
     ]
    }
   ],
   "source": [
    "import minsearch"
   ]
  },
  {
   "cell_type": "code",
   "execution_count": 14,
   "id": "5fe265f6-ea27-4c1a-9f50-460cd310c0d4",
   "metadata": {},
   "outputs": [],
   "source": [
    "index = minsearch.Index(\n",
    "    text_fields=['food', 'serving_size_g', 'calories_kcal', 'protein_g', 'fat_g',\n",
    "       'carbohydrates_g', 'vitamin_a_mg', 'vitamin_b6_mg', 'vitamin_b12_mg',\n",
    "       'vitamin_c_mg', 'vitamin_d_mg', 'vitamin_e_mg', 'calcium_mg', 'iron_mg',\n",
    "       'potassium_mg', 'magnesium_mg', 'selenium_mg', 'zinc_mg', 'iodine_mg',\n",
    "       'allergens'],\n",
    "    keyword_fields=['id']\n",
    ")"
   ]
  },
  {
   "cell_type": "code",
   "execution_count": 15,
   "id": "63e9453a-aa38-4d92-ac71-8ba8aa239732",
   "metadata": {},
   "outputs": [
    {
     "data": {
      "text/plain": [
       "<minsearch.Index at 0x735e45fe20f0>"
      ]
     },
     "execution_count": 15,
     "metadata": {},
     "output_type": "execute_result"
    }
   ],
   "source": [
    "index.fit(documents)"
   ]
  },
  {
   "cell_type": "code",
   "execution_count": 16,
   "id": "cbb4dcb0-b094-418b-9244-016a7034d3a5",
   "metadata": {},
   "outputs": [],
   "source": [
    "##RAG Flow"
   ]
  },
  {
   "cell_type": "code",
   "execution_count": 19,
   "id": "f97c8668-1012-4a9f-98fa-9061110fe3ce",
   "metadata": {},
   "outputs": [],
   "source": [
    "import os\n",
    "!pip install openai"
   ]
  },
  {
   "cell_type": "code",
   "execution_count": 23,
   "id": "80e64d85-fce7-4a7f-bc9a-c017e8b0aa3a",
   "metadata": {},
   "outputs": [
    {
     "ename": "OpenAIError",
     "evalue": "The api_key client option must be set either by passing api_key to the client or by setting the OPENAI_API_KEY environment variable",
     "output_type": "error",
     "traceback": [
      "\u001b[31m---------------------------------------------------------------------------\u001b[39m",
      "\u001b[31mOpenAIError\u001b[39m                               Traceback (most recent call last)",
      "\u001b[36mCell\u001b[39m\u001b[36m \u001b[39m\u001b[32mIn[23]\u001b[39m\u001b[32m, line 2\u001b[39m\n\u001b[32m      1\u001b[39m \u001b[38;5;28;01mfrom\u001b[39;00m\u001b[38;5;250m \u001b[39m\u001b[34;01mopenai\u001b[39;00m\u001b[38;5;250m \u001b[39m\u001b[38;5;28;01mimport\u001b[39;00m OpenAI\n\u001b[32m----> \u001b[39m\u001b[32m2\u001b[39m client = \u001b[43mOpenAI\u001b[49m\u001b[43m(\u001b[49m\u001b[43m)\u001b[49m\n",
      "\u001b[36mFile \u001b[39m\u001b[32m/usr/local/python/3.12.1/lib/python3.12/site-packages/openai/_client.py:135\u001b[39m, in \u001b[36mOpenAI.__init__\u001b[39m\u001b[34m(self, api_key, organization, project, webhook_secret, base_url, websocket_base_url, timeout, max_retries, default_headers, default_query, http_client, _strict_response_validation)\u001b[39m\n\u001b[32m    133\u001b[39m     api_key = os.environ.get(\u001b[33m\"\u001b[39m\u001b[33mOPENAI_API_KEY\u001b[39m\u001b[33m\"\u001b[39m)\n\u001b[32m    134\u001b[39m \u001b[38;5;28;01mif\u001b[39;00m api_key \u001b[38;5;129;01mis\u001b[39;00m \u001b[38;5;28;01mNone\u001b[39;00m:\n\u001b[32m--> \u001b[39m\u001b[32m135\u001b[39m     \u001b[38;5;28;01mraise\u001b[39;00m OpenAIError(\n\u001b[32m    136\u001b[39m         \u001b[33m\"\u001b[39m\u001b[33mThe api_key client option must be set either by passing api_key to the client or by setting the OPENAI_API_KEY environment variable\u001b[39m\u001b[33m\"\u001b[39m\n\u001b[32m    137\u001b[39m     )\n\u001b[32m    138\u001b[39m \u001b[38;5;28;01mif\u001b[39;00m \u001b[38;5;28mcallable\u001b[39m(api_key):\n\u001b[32m    139\u001b[39m     \u001b[38;5;28mself\u001b[39m.api_key = \u001b[33m\"\u001b[39m\u001b[33m\"\u001b[39m\n",
      "\u001b[31mOpenAIError\u001b[39m: The api_key client option must be set either by passing api_key to the client or by setting the OPENAI_API_KEY environment variable"
     ]
    }
   ],
   "source": [
    "from openai import OpenAI\n",
    "client = OpenAI()"
   ]
  },
  {
   "cell_type": "code",
   "execution_count": 501,
   "id": "f827d015-8b2b-491d-816e-e6f9993af0bc",
   "metadata": {},
   "outputs": [],
   "source": [
    "def search(query):\n",
    "    boost = {}\n",
    "\n",
    "    results = index.search(\n",
    "        query=query,\n",
    "        filter_dict={},\n",
    "        boost_dict=boost,\n",
    "\n",
    "    )\n",
    "\n",
    "    return results"
   ]
  },
  {
   "cell_type": "code",
   "execution_count": 502,
   "id": "bde50b7b-7853-476e-9701-1c826b3128d3",
   "metadata": {},
   "outputs": [],
   "source": [
    "prompt_template = \"\"\"\n",
    "You are a nutrition assistant. Answer the QUESTION based on the CONTEXT from the food database. \n",
    "QUESTION: {question}\n",
    "CONTEXT: {context}\n",
    "\"\"\".strip()\n",
    "\n",
    "entry_template = \"\"\"\n",
    "food: {food}\n",
    "serving_size_g: {serving_size_g}\n",
    "calories_kcal: {calories_kcal}\n",
    "protein_g: {protein_g}\n",
    "fat_g: {fat_g}\n",
    "carbohydrates_g: {carbohydrates_g}\n",
    "vitamin_a_mg: {vitamin_a_mg}\n",
    "vitamin_b6_mg: {vitamin_b6_mg}\n",
    "vitamin_b12_mg: {vitamin_b12_mg}\n",
    "vitamin_c_mg: {vitamin_c_mg}\n",
    "vitamin_d_mg: {vitamin_d_mg}\n",
    "vitamin_e_mg: {vitamin_e_mg}\n",
    "calcium_mg: {calcium_mg}\n",
    "iron_mg: {iron_mg}\n",
    "potassium_mg: {potassium_mg}\n",
    "magnesium_mg: {magnesium_mg}\n",
    "selenium_mg: {selenium_mg}\n",
    "zinc_mg: {zinc_mg}\n",
    "iodine_mg: {iodine_mg}\n",
    "allergens: {allergens}\n",
    "\"\"\".strip()\n",
    "\n",
    "\n",
    "def build_prompt(query, search_results):\n",
    "    context = \"\"\n",
    "    \n",
    "    for doc in search_results:\n",
    "        context = context + entry_template.format(**doc) + \"\\n\\n\"\n",
    "\n",
    "    prompt = prompt_template.format(question=query, context=context).strip()\n",
    "    return prompt\n"
   ]
  },
  {
   "cell_type": "code",
   "execution_count": 503,
   "id": "017a5c6e-c7e2-42ac-8a8a-24a4b2f8d5d8",
   "metadata": {},
   "outputs": [],
   "source": [
    "def llm(prompt, model='gpt-4o-mini'):\n",
    "    response = client.chat.completions.create(\n",
    "        model=model,\n",
    "        messages=[{\"role\": \"user\", \"content\": prompt}]\n",
    "    )\n",
    "    \n",
    "    return response.choices[0].message.content"
   ]
  },
  {
   "cell_type": "code",
   "execution_count": 504,
   "id": "bc7cdcf0-a851-4c6b-a81f-3f49b31c7eed",
   "metadata": {},
   "outputs": [],
   "source": [
    "def rag(query, model='gpt-4o-mini'):\n",
    "    search_results = search(query)\n",
    "    prompt = build_prompt(query, search_results)\n",
    "    #print(prompt)\n",
    "    answer = llm(prompt, model=model)\n",
    "    return answer"
   ]
  },
  {
   "cell_type": "code",
   "execution_count": 505,
   "id": "b80504f9-3b07-44f2-ac24-e83fa3528de7",
   "metadata": {},
   "outputs": [
    {
     "name": "stdout",
     "output_type": "stream",
     "text": [
      "Based on the provided context, the meat with no allergens and the least calories is **Goat meat** with 109 calories per 100 grams.\n"
     ]
    }
   ],
   "source": [
    "question = 'Which meat has no allergen and have less calories'\n",
    "answer = rag(question)\n",
    "print(answer)"
   ]
  },
  {
   "cell_type": "code",
   "execution_count": 472,
   "id": "b5bed6e4-37e2-47c2-a997-7561f77c2e57",
   "metadata": {},
   "outputs": [],
   "source": [
    "##Retrieval evaluation"
   ]
  },
  {
   "cell_type": "code",
   "execution_count": 506,
   "id": "2d24149a-48ed-450f-be9a-9eb8f1a6eb1b",
   "metadata": {},
   "outputs": [],
   "source": [
    "df_question = pd.read_csv('../data/ground-truth-retrieval.csv')"
   ]
  },
  {
   "cell_type": "code",
   "execution_count": 507,
   "id": "26d9dfd1-6fa2-4702-872f-7ad2030f5814",
   "metadata": {},
   "outputs": [
    {
     "data": {
      "text/html": [
       "<div>\n",
       "<style scoped>\n",
       "    .dataframe tbody tr th:only-of-type {\n",
       "        vertical-align: middle;\n",
       "    }\n",
       "\n",
       "    .dataframe tbody tr th {\n",
       "        vertical-align: top;\n",
       "    }\n",
       "\n",
       "    .dataframe thead th {\n",
       "        text-align: right;\n",
       "    }\n",
       "</style>\n",
       "<table border=\"1\" class=\"dataframe\">\n",
       "  <thead>\n",
       "    <tr style=\"text-align: right;\">\n",
       "      <th></th>\n",
       "      <th>id</th>\n",
       "      <th>question</th>\n",
       "    </tr>\n",
       "  </thead>\n",
       "  <tbody>\n",
       "    <tr>\n",
       "      <th>0</th>\n",
       "      <td>1</td>\n",
       "      <td>What is the protein content in 100 grams of ra...</td>\n",
       "    </tr>\n",
       "    <tr>\n",
       "      <th>1</th>\n",
       "      <td>1</td>\n",
       "      <td>How many calories are there in a 100-gram serv...</td>\n",
       "    </tr>\n",
       "    <tr>\n",
       "      <th>2</th>\n",
       "      <td>1</td>\n",
       "      <td>Can you tell me the fat amount present in 100 ...</td>\n",
       "    </tr>\n",
       "    <tr>\n",
       "      <th>3</th>\n",
       "      <td>1</td>\n",
       "      <td>Is there any vitamin C in raw chicken breast, ...</td>\n",
       "    </tr>\n",
       "    <tr>\n",
       "      <th>4</th>\n",
       "      <td>1</td>\n",
       "      <td>What are the main allergens associated with ra...</td>\n",
       "    </tr>\n",
       "  </tbody>\n",
       "</table>\n",
       "</div>"
      ],
      "text/plain": [
       "   id                                           question\n",
       "0   1  What is the protein content in 100 grams of ra...\n",
       "1   1  How many calories are there in a 100-gram serv...\n",
       "2   1  Can you tell me the fat amount present in 100 ...\n",
       "3   1  Is there any vitamin C in raw chicken breast, ...\n",
       "4   1  What are the main allergens associated with ra..."
      ]
     },
     "execution_count": 507,
     "metadata": {},
     "output_type": "execute_result"
    }
   ],
   "source": [
    "df_question.head()"
   ]
  },
  {
   "cell_type": "code",
   "execution_count": 508,
   "id": "7abe2453-6bd1-4fcf-8922-375a0d423adc",
   "metadata": {},
   "outputs": [],
   "source": [
    "ground_truth = df_question.to_dict(orient='records')"
   ]
  },
  {
   "cell_type": "code",
   "execution_count": 509,
   "id": "1c3d5b88-abd0-4102-8859-eaa70a8ed4c9",
   "metadata": {},
   "outputs": [
    {
     "data": {
      "text/plain": [
       "{'id': 1,\n",
       " 'question': 'What is the protein content in 100 grams of raw, skinless chicken breast?'}"
      ]
     },
     "execution_count": 509,
     "metadata": {},
     "output_type": "execute_result"
    }
   ],
   "source": [
    "ground_truth[0]"
   ]
  },
  {
   "cell_type": "code",
   "execution_count": 510,
   "id": "ca2b0830-e134-4fb1-b74b-a4e6af266e6a",
   "metadata": {},
   "outputs": [],
   "source": [
    "def hit_rate(relevance_total):\n",
    "    cnt = 0\n",
    "\n",
    "    for line in relevance_total:\n",
    "        if True in line:\n",
    "            cnt = cnt + 1\n",
    "\n",
    "    return cnt / len(relevance_total)\n",
    "\n",
    "def mrr(relevance_total):\n",
    "    total_score = 0.0\n",
    "\n",
    "    for line in relevance_total:\n",
    "        for rank in range(len(line)):\n",
    "            if line[rank] == True:\n",
    "                total_score = total_score + 1 / (rank + 1)\n",
    "\n",
    "    return total_score / len(relevance_total)"
   ]
  },
  {
   "cell_type": "code",
   "execution_count": 511,
   "id": "a49622fb-08b7-444d-bc42-eb9557f38f69",
   "metadata": {},
   "outputs": [],
   "source": [
    "def minsearch_search(query):\n",
    "    boost = {}\n",
    "\n",
    "    results = index.search(\n",
    "        query=query,\n",
    "        filter_dict={},\n",
    "        boost_dict=boost,\n",
    "        num_results=10\n",
    "    )\n",
    "\n",
    "    return results"
   ]
  },
  {
   "cell_type": "code",
   "execution_count": 512,
   "id": "0e5e2838-11d0-46ae-a992-842fcab39e0a",
   "metadata": {},
   "outputs": [],
   "source": [
    "def evaluate(ground_truth, search_function):\n",
    "    relevance_total = []\n",
    "\n",
    "    for q in tqdm(ground_truth):\n",
    "        doc_id = q['id']\n",
    "        results = search_function(q)\n",
    "        relevance = [d['id'] == doc_id for d in results]\n",
    "        relevance_total.append(relevance)\n",
    "\n",
    "    return {\n",
    "        'hit_rate': hit_rate(relevance_total),\n",
    "        'mrr': mrr(relevance_total),\n",
    "    }"
   ]
  },
  {
   "cell_type": "code",
   "execution_count": 513,
   "id": "160aad19-28a6-4961-aba2-082e58c38e62",
   "metadata": {},
   "outputs": [],
   "source": [
    "from tqdm.auto import tqdm"
   ]
  },
  {
   "cell_type": "code",
   "execution_count": 514,
   "id": "326fdae1-8296-41d5-a132-6d25e94582b9",
   "metadata": {},
   "outputs": [
    {
     "data": {
      "application/vnd.jupyter.widget-view+json": {
       "model_id": "46b7fadfb7b642d5b56f308838c5dd9b",
       "version_major": 2,
       "version_minor": 0
      },
      "text/plain": [
       "  0%|          | 0/2480 [00:00<?, ?it/s]"
      ]
     },
     "metadata": {},
     "output_type": "display_data"
    },
    {
     "data": {
      "text/plain": [
       "{'hit_rate': 0.6471774193548387, 'mrr': 0.5518553187403998}"
      ]
     },
     "execution_count": 514,
     "metadata": {},
     "output_type": "execute_result"
    }
   ],
   "source": [
    "evaluate(ground_truth, lambda q: minsearch_search(q['question']))"
   ]
  },
  {
   "cell_type": "code",
   "execution_count": 515,
   "id": "fe37f1e3-ec1d-4adf-9245-c0e9bed35e0c",
   "metadata": {},
   "outputs": [],
   "source": [
    "##Finding the best parameters"
   ]
  },
  {
   "cell_type": "code",
   "execution_count": 517,
   "id": "28fb78ed-9c3e-4eb8-88c0-e98301463b96",
   "metadata": {},
   "outputs": [
    {
     "data": {
      "text/html": [
       "<div>\n",
       "<style scoped>\n",
       "    .dataframe tbody tr th:only-of-type {\n",
       "        vertical-align: middle;\n",
       "    }\n",
       "\n",
       "    .dataframe tbody tr th {\n",
       "        vertical-align: top;\n",
       "    }\n",
       "\n",
       "    .dataframe thead th {\n",
       "        text-align: right;\n",
       "    }\n",
       "</style>\n",
       "<table border=\"1\" class=\"dataframe\">\n",
       "  <thead>\n",
       "    <tr style=\"text-align: right;\">\n",
       "      <th></th>\n",
       "      <th>id</th>\n",
       "      <th>question</th>\n",
       "    </tr>\n",
       "  </thead>\n",
       "  <tbody>\n",
       "    <tr>\n",
       "      <th>0</th>\n",
       "      <td>1</td>\n",
       "      <td>What is the protein content in 100 grams of ra...</td>\n",
       "    </tr>\n",
       "    <tr>\n",
       "      <th>1</th>\n",
       "      <td>1</td>\n",
       "      <td>How many calories are there in a 100-gram serv...</td>\n",
       "    </tr>\n",
       "    <tr>\n",
       "      <th>2</th>\n",
       "      <td>1</td>\n",
       "      <td>Can you tell me the fat amount present in 100 ...</td>\n",
       "    </tr>\n",
       "    <tr>\n",
       "      <th>3</th>\n",
       "      <td>1</td>\n",
       "      <td>Is there any vitamin C in raw chicken breast, ...</td>\n",
       "    </tr>\n",
       "    <tr>\n",
       "      <th>4</th>\n",
       "      <td>1</td>\n",
       "      <td>What are the main allergens associated with ra...</td>\n",
       "    </tr>\n",
       "    <tr>\n",
       "      <th>...</th>\n",
       "      <td>...</td>\n",
       "      <td>...</td>\n",
       "    </tr>\n",
       "    <tr>\n",
       "      <th>2475</th>\n",
       "      <td>496</td>\n",
       "      <td>What is the total calorie content in a 100-gra...</td>\n",
       "    </tr>\n",
       "    <tr>\n",
       "      <th>2476</th>\n",
       "      <td>496</td>\n",
       "      <td>How much protein can I get from 100 grams of h...</td>\n",
       "    </tr>\n",
       "    <tr>\n",
       "      <th>2477</th>\n",
       "      <td>496</td>\n",
       "      <td>What is the fat content in hard sheep cheese p...</td>\n",
       "    </tr>\n",
       "    <tr>\n",
       "      <th>2478</th>\n",
       "      <td>496</td>\n",
       "      <td>Does hard sheep cheese contain any vitamin C p...</td>\n",
       "    </tr>\n",
       "    <tr>\n",
       "      <th>2479</th>\n",
       "      <td>496</td>\n",
       "      <td>What allergens should I be aware of when consu...</td>\n",
       "    </tr>\n",
       "  </tbody>\n",
       "</table>\n",
       "<p>2480 rows × 2 columns</p>\n",
       "</div>"
      ],
      "text/plain": [
       "       id                                           question\n",
       "0       1  What is the protein content in 100 grams of ra...\n",
       "1       1  How many calories are there in a 100-gram serv...\n",
       "2       1  Can you tell me the fat amount present in 100 ...\n",
       "3       1  Is there any vitamin C in raw chicken breast, ...\n",
       "4       1  What are the main allergens associated with ra...\n",
       "...   ...                                                ...\n",
       "2475  496  What is the total calorie content in a 100-gra...\n",
       "2476  496  How much protein can I get from 100 grams of h...\n",
       "2477  496  What is the fat content in hard sheep cheese p...\n",
       "2478  496  Does hard sheep cheese contain any vitamin C p...\n",
       "2479  496  What allergens should I be aware of when consu...\n",
       "\n",
       "[2480 rows x 2 columns]"
      ]
     },
     "execution_count": 517,
     "metadata": {},
     "output_type": "execute_result"
    }
   ],
   "source": [
    "df_question"
   ]
  },
  {
   "cell_type": "code",
   "execution_count": 525,
   "id": "a4da6c54-2e0f-4906-b758-56d6429de537",
   "metadata": {},
   "outputs": [],
   "source": [
    "df_validation = df_question[:100]\n",
    "df_test = df_question[100:]"
   ]
  },
  {
   "cell_type": "code",
   "execution_count": 526,
   "id": "4a7581fc-4c61-459e-b025-46bae9ec0503",
   "metadata": {},
   "outputs": [],
   "source": [
    "import random\n",
    "\n",
    "def simple_optimize(param_ranges, objective_function, n_iterations=10):\n",
    "    best_params = None\n",
    "    best_score = float('-inf')  # Assuming we're minimizing. Use float('-inf') if maximizing.\n",
    "\n",
    "    for _ in range(n_iterations):\n",
    "        # Generate random parameters\n",
    "        current_params = {}\n",
    "        for param, (min_val, max_val) in param_ranges.items():\n",
    "            if isinstance(min_val, int) and isinstance(max_val, int):\n",
    "                current_params[param] = random.randint(min_val, max_val)\n",
    "            else:\n",
    "                current_params[param] = random.uniform(min_val, max_val)\n",
    "        \n",
    "        # Evaluate the objective function\n",
    "        current_score = objective_function(current_params)\n",
    "        \n",
    "        # Update best if current is better\n",
    "        if current_score > best_score:  # Change to > if maximizing\n",
    "            best_score = current_score\n",
    "            best_params = current_params\n",
    "    \n",
    "    return best_params, best_score"
   ]
  },
  {
   "cell_type": "code",
   "execution_count": 527,
   "id": "e031cbf7-8538-4f13-9909-e47695ab22c4",
   "metadata": {},
   "outputs": [],
   "source": [
    "gt_val = df_validation.to_dict(orient='records')"
   ]
  },
  {
   "cell_type": "code",
   "execution_count": 528,
   "id": "abe8ff19-5302-4dbe-b752-9a2e9cec38b1",
   "metadata": {},
   "outputs": [
    {
     "data": {
      "application/vnd.jupyter.widget-view+json": {
       "model_id": "6b49219fa04f495e9083e05ba00d861c",
       "version_major": 2,
       "version_minor": 0
      },
      "text/plain": [
       "  0%|          | 0/100 [00:00<?, ?it/s]"
      ]
     },
     "metadata": {},
     "output_type": "display_data"
    },
    {
     "data": {
      "text/plain": [
       "{'hit_rate': 0.49, 'mrr': 0.3630357142857143}"
      ]
     },
     "execution_count": 528,
     "metadata": {},
     "output_type": "execute_result"
    }
   ],
   "source": [
    "evaluate(gt_val, lambda q: minsearch_search(q['question']))"
   ]
  },
  {
   "cell_type": "code",
   "execution_count": 529,
   "id": "8e2f1885-9fdc-4a29-bcd7-8a30fdc49235",
   "metadata": {},
   "outputs": [],
   "source": [
    "def minsearch_search(query, boost=None):\n",
    "    if boost is None:\n",
    "        boost = {}\n",
    "\n",
    "    results = index.search(\n",
    "        query=query,\n",
    "        filter_dict={},\n",
    "        boost_dict=boost,\n",
    "        num_results=10\n",
    "    )\n",
    "\n",
    "    return results\n"
   ]
  },
  {
   "cell_type": "code",
   "execution_count": 530,
   "id": "d2289860-221d-4b5d-86e8-5ae6d8070b25",
   "metadata": {},
   "outputs": [
    {
     "data": {
      "text/plain": [
       "{'food': 'Chicken breast, raw, skinless',\n",
       " 'serving_size_g': '100',\n",
       " 'calories_kcal': '120',\n",
       " 'protein_g': '22.5',\n",
       " 'fat_g': '2.6',\n",
       " 'carbohydrates_g': '0',\n",
       " 'vitamin_a_mg': '0.01',\n",
       " 'vitamin_b6_mg': '0.60',\n",
       " 'vitamin_b12_mg': '0.0003',\n",
       " 'vitamin_c_mg': '0',\n",
       " 'vitamin_d_mg': '0',\n",
       " 'vitamin_e_mg': '0',\n",
       " 'calcium_mg': '12',\n",
       " 'iron_mg': '0.4',\n",
       " 'potassium_mg': '256',\n",
       " 'magnesium_mg': '27',\n",
       " 'selenium_mg': '0.027',\n",
       " 'zinc_mg': '1.0',\n",
       " 'iodine_mg': '0',\n",
       " 'allergens': 'none',\n",
       " 'id': 1}"
      ]
     },
     "execution_count": 530,
     "metadata": {},
     "output_type": "execute_result"
    }
   ],
   "source": [
    "documents[0]"
   ]
  },
  {
   "cell_type": "code",
   "execution_count": 531,
   "id": "0df66536-ca61-4c74-ae07-93c9eee113d5",
   "metadata": {},
   "outputs": [],
   "source": [
    "param_ranges = {\n",
    "     'food': (0.0, 3.0),\n",
    "     'serving_size_g': (0.0, 3.0),\n",
    "     'calories_kcal': (0.0, 3.0),\n",
    "     'protein_g': (0.0, 3.0),\n",
    "     'fat_g': (0.0, 3.0),\n",
    "     'carbohydrates_g': (0.0, 3.0),\n",
    "     'vitamin_a_mg': (0.0, 3.0),\n",
    "     'vitamin_b6_mg': (0.0, 3.0),\n",
    "     'vitamin_b12_mg': (0.0, 3.0),\n",
    "     'vitamin_c_mg': (0.0, 3.0),\n",
    "     'vitamin_d_mg': (0.0, 3.0),\n",
    "     'vitamin_e_mg': (0.0, 3.0),\n",
    "     'calcium_mg': (0.0, 3.0),\n",
    "     'iron_mg': (0.0, 3.0),\n",
    "     'potassium_mg': (0.0, 3.0),\n",
    "     'magnesium_mg': (0.0, 3.0),\n",
    "     'selenium_mg': (0.0, 3.0),\n",
    "     'zinc_mg': (0.0, 3.0),\n",
    "     'iodine_mg': (0.0, 3.0),\n",
    "     'allergens': (0.0, 3.0),\n",
    "}\n",
    "\n",
    "def objective(boost_params):\n",
    "    def search_function(q):\n",
    "        return minsearch_search(q['question'], boost_params)\n",
    "\n",
    "    results = evaluate(gt_val, search_function)\n",
    "    return results['mrr']"
   ]
  },
  {
   "cell_type": "code",
   "execution_count": 532,
   "id": "898d2208-8026-4f91-85f0-c61cc5ee905a",
   "metadata": {},
   "outputs": [
    {
     "data": {
      "application/vnd.jupyter.widget-view+json": {
       "model_id": "0416b0ebc14f4b48a222a231a7236219",
       "version_major": 2,
       "version_minor": 0
      },
      "text/plain": [
       "  0%|          | 0/100 [00:00<?, ?it/s]"
      ]
     },
     "metadata": {},
     "output_type": "display_data"
    },
    {
     "data": {
      "application/vnd.jupyter.widget-view+json": {
       "model_id": "db74c23a62b44bb597643dad74157aaa",
       "version_major": 2,
       "version_minor": 0
      },
      "text/plain": [
       "  0%|          | 0/100 [00:00<?, ?it/s]"
      ]
     },
     "metadata": {},
     "output_type": "display_data"
    },
    {
     "data": {
      "application/vnd.jupyter.widget-view+json": {
       "model_id": "3f8565a15b014f3cb360825ae0ca5354",
       "version_major": 2,
       "version_minor": 0
      },
      "text/plain": [
       "  0%|          | 0/100 [00:00<?, ?it/s]"
      ]
     },
     "metadata": {},
     "output_type": "display_data"
    },
    {
     "data": {
      "application/vnd.jupyter.widget-view+json": {
       "model_id": "87cea277e3b3468898bf2de4894d8e46",
       "version_major": 2,
       "version_minor": 0
      },
      "text/plain": [
       "  0%|          | 0/100 [00:00<?, ?it/s]"
      ]
     },
     "metadata": {},
     "output_type": "display_data"
    },
    {
     "data": {
      "application/vnd.jupyter.widget-view+json": {
       "model_id": "fea091b0f2a44a00a28eb0da5269f483",
       "version_major": 2,
       "version_minor": 0
      },
      "text/plain": [
       "  0%|          | 0/100 [00:00<?, ?it/s]"
      ]
     },
     "metadata": {},
     "output_type": "display_data"
    },
    {
     "data": {
      "application/vnd.jupyter.widget-view+json": {
       "model_id": "9640896a87f24285812650c3fd53ee23",
       "version_major": 2,
       "version_minor": 0
      },
      "text/plain": [
       "  0%|          | 0/100 [00:00<?, ?it/s]"
      ]
     },
     "metadata": {},
     "output_type": "display_data"
    },
    {
     "data": {
      "application/vnd.jupyter.widget-view+json": {
       "model_id": "e2cc3c232f7b4fc991aca4dfcafe16ba",
       "version_major": 2,
       "version_minor": 0
      },
      "text/plain": [
       "  0%|          | 0/100 [00:00<?, ?it/s]"
      ]
     },
     "metadata": {},
     "output_type": "display_data"
    },
    {
     "data": {
      "application/vnd.jupyter.widget-view+json": {
       "model_id": "b41a0691c17d49ca8e46c436239636e3",
       "version_major": 2,
       "version_minor": 0
      },
      "text/plain": [
       "  0%|          | 0/100 [00:00<?, ?it/s]"
      ]
     },
     "metadata": {},
     "output_type": "display_data"
    },
    {
     "data": {
      "application/vnd.jupyter.widget-view+json": {
       "model_id": "29062568321d4d68bee50fd318599011",
       "version_major": 2,
       "version_minor": 0
      },
      "text/plain": [
       "  0%|          | 0/100 [00:00<?, ?it/s]"
      ]
     },
     "metadata": {},
     "output_type": "display_data"
    },
    {
     "data": {
      "application/vnd.jupyter.widget-view+json": {
       "model_id": "cb999524274e48ce903955bbab3c4b85",
       "version_major": 2,
       "version_minor": 0
      },
      "text/plain": [
       "  0%|          | 0/100 [00:00<?, ?it/s]"
      ]
     },
     "metadata": {},
     "output_type": "display_data"
    },
    {
     "data": {
      "application/vnd.jupyter.widget-view+json": {
       "model_id": "7ea3e8eb97d04bb0b1bd5cdcc1564449",
       "version_major": 2,
       "version_minor": 0
      },
      "text/plain": [
       "  0%|          | 0/100 [00:00<?, ?it/s]"
      ]
     },
     "metadata": {},
     "output_type": "display_data"
    },
    {
     "data": {
      "application/vnd.jupyter.widget-view+json": {
       "model_id": "8cdb0484dcc14372ae76bb7100c7e1ea",
       "version_major": 2,
       "version_minor": 0
      },
      "text/plain": [
       "  0%|          | 0/100 [00:00<?, ?it/s]"
      ]
     },
     "metadata": {},
     "output_type": "display_data"
    },
    {
     "data": {
      "application/vnd.jupyter.widget-view+json": {
       "model_id": "656fb74518cb463b9ac994ef10bd4e4f",
       "version_major": 2,
       "version_minor": 0
      },
      "text/plain": [
       "  0%|          | 0/100 [00:00<?, ?it/s]"
      ]
     },
     "metadata": {},
     "output_type": "display_data"
    },
    {
     "data": {
      "application/vnd.jupyter.widget-view+json": {
       "model_id": "d8266d5db1b844c9b6f8e841fc3fc3d3",
       "version_major": 2,
       "version_minor": 0
      },
      "text/plain": [
       "  0%|          | 0/100 [00:00<?, ?it/s]"
      ]
     },
     "metadata": {},
     "output_type": "display_data"
    },
    {
     "data": {
      "application/vnd.jupyter.widget-view+json": {
       "model_id": "be18e05e3a7b4cfc9208d350bc2433cc",
       "version_major": 2,
       "version_minor": 0
      },
      "text/plain": [
       "  0%|          | 0/100 [00:00<?, ?it/s]"
      ]
     },
     "metadata": {},
     "output_type": "display_data"
    },
    {
     "data": {
      "application/vnd.jupyter.widget-view+json": {
       "model_id": "62bf24228ea24df1b36a93f12749840e",
       "version_major": 2,
       "version_minor": 0
      },
      "text/plain": [
       "  0%|          | 0/100 [00:00<?, ?it/s]"
      ]
     },
     "metadata": {},
     "output_type": "display_data"
    },
    {
     "data": {
      "application/vnd.jupyter.widget-view+json": {
       "model_id": "d0f98ce48f9147ba8f4fb884ecb8b20f",
       "version_major": 2,
       "version_minor": 0
      },
      "text/plain": [
       "  0%|          | 0/100 [00:00<?, ?it/s]"
      ]
     },
     "metadata": {},
     "output_type": "display_data"
    },
    {
     "data": {
      "application/vnd.jupyter.widget-view+json": {
       "model_id": "b858df3b297f4b33b2c11e7a61918998",
       "version_major": 2,
       "version_minor": 0
      },
      "text/plain": [
       "  0%|          | 0/100 [00:00<?, ?it/s]"
      ]
     },
     "metadata": {},
     "output_type": "display_data"
    },
    {
     "data": {
      "application/vnd.jupyter.widget-view+json": {
       "model_id": "51d5ff79a0ac47f9b197ea984ccbd7a0",
       "version_major": 2,
       "version_minor": 0
      },
      "text/plain": [
       "  0%|          | 0/100 [00:00<?, ?it/s]"
      ]
     },
     "metadata": {},
     "output_type": "display_data"
    },
    {
     "data": {
      "application/vnd.jupyter.widget-view+json": {
       "model_id": "68b0a4dacb544d6d956698783d31b7d6",
       "version_major": 2,
       "version_minor": 0
      },
      "text/plain": [
       "  0%|          | 0/100 [00:00<?, ?it/s]"
      ]
     },
     "metadata": {},
     "output_type": "display_data"
    },
    {
     "data": {
      "text/plain": [
       "({'food': 2.8408975576409867,\n",
       "  'serving_size_g': 1.966708438529639,\n",
       "  'calories_kcal': 2.0254924509606607,\n",
       "  'protein_g': 0.910326687901147,\n",
       "  'fat_g': 1.8873359522077655,\n",
       "  'carbohydrates_g': 2.187337604558727,\n",
       "  'vitamin_a_mg': 0.7143971918707978,\n",
       "  'vitamin_b6_mg': 1.6280177756983494,\n",
       "  'vitamin_b12_mg': 0.7650785909265626,\n",
       "  'vitamin_c_mg': 0.08901307449600471,\n",
       "  'vitamin_d_mg': 2.4507684816315445,\n",
       "  'vitamin_e_mg': 2.4211606137489596,\n",
       "  'calcium_mg': 0.47441875285394974,\n",
       "  'iron_mg': 0.21001480682169194,\n",
       "  'potassium_mg': 2.0032575358512372,\n",
       "  'magnesium_mg': 1.4509042101782008,\n",
       "  'selenium_mg': 1.4068406394683315,\n",
       "  'zinc_mg': 2.639624309646852,\n",
       "  'iodine_mg': 0.6247916087548824,\n",
       "  'allergens': 2.6357239358095104},\n",
       " 0.5369999999999999)"
      ]
     },
     "execution_count": 532,
     "metadata": {},
     "output_type": "execute_result"
    }
   ],
   "source": [
    "simple_optimize(param_ranges, objective, n_iterations=20)"
   ]
  },
  {
   "cell_type": "code",
   "execution_count": 533,
   "id": "b8e11fe9-c4e3-4103-898c-0286b5039d95",
   "metadata": {},
   "outputs": [
    {
     "data": {
      "application/vnd.jupyter.widget-view+json": {
       "model_id": "7819dc803f4648b08fdac09485a01068",
       "version_major": 2,
       "version_minor": 0
      },
      "text/plain": [
       "  0%|          | 0/2480 [00:00<?, ?it/s]"
      ]
     },
     "metadata": {},
     "output_type": "display_data"
    },
    {
     "data": {
      "text/plain": [
       "{'hit_rate': 0.8891129032258065, 'mrr': 0.7286029505888372}"
      ]
     },
     "execution_count": 533,
     "metadata": {},
     "output_type": "execute_result"
    }
   ],
   "source": [
    "def minsearch_improved(query):\n",
    "    boost = {\n",
    "        'food': 2.84,\n",
    "     'serving_size_g': 1.97,\n",
    "     'calories_kcal': 2.03,\n",
    "     'protein_g': 0.91,\n",
    "     'fat_g': 1.89,\n",
    "     'carbohydrates_g': 2.19,\n",
    "     'vitamin_a_mg': 0.72,\n",
    "     'vitamin_b6_mg': 1.62,\n",
    "     'vitamin_b12_mg': 0.77,\n",
    "     'vitamin_c_mg': 0.09,\n",
    "     'vitamin_d_mg': 2.45,\n",
    "     'vitamin_e_mg': 2.42,\n",
    "     'calcium_mg': 0.47,\n",
    "     'iron_mg': 0.21,\n",
    "     'potassium_mg': 2.00,\n",
    "     'magnesium_mg': 1.45,\n",
    "     'selenium_mg': 1.41,\n",
    "     'zinc_mg': 2.64,\n",
    "     'iodine_mg': 0.62,\n",
    "     'allergens': 2.64,\n",
    "    }\n",
    "\n",
    "    results = index.search(\n",
    "        query=query,\n",
    "        filter_dict={},\n",
    "        boost_dict=boost,\n",
    "        num_results=10\n",
    "    )\n",
    "\n",
    "    return results\n",
    "\n",
    "evaluate(ground_truth, lambda q: minsearch_improved(q['question']))"
   ]
  },
  {
   "cell_type": "code",
   "execution_count": null,
   "id": "ad361a91-1b0d-4cdf-82af-4b6f29635ac1",
   "metadata": {},
   "outputs": [],
   "source": [
    "##RAG evaluation"
   ]
  },
  {
   "cell_type": "code",
   "execution_count": 534,
   "id": "f3e4e1be-f082-4af2-9242-6e7566ba3dea",
   "metadata": {},
   "outputs": [],
   "source": [
    "prompt2_template = \"\"\"\n",
    "You are an expert evaluator for a RAG system.\n",
    "Your task is to analyze the relevance of the generated answer to the given question.\n",
    "Based on the relevance of the generated answer, you will classify it\n",
    "as \"NON_RELEVANT\", \"PARTLY_RELEVANT\", or \"RELEVANT\".\n",
    "\n",
    "Here is the data for evaluation:\n",
    "\n",
    "Question: {question}\n",
    "Generated Answer: {answer_llm}\n",
    "\n",
    "Please analyze the content and context of the generated answer in relation to the question\n",
    "and provide your evaluation in parsable JSON without using code blocks:\n",
    "\n",
    "{{\n",
    "  \"Relevance\": \"NON_RELEVANT\" | \"PARTLY_RELEVANT\" | \"RELEVANT\",\n",
    "  \"Explanation\": \"[Provide a brief explanation for your evaluation]\"\n",
    "}}\n",
    "\"\"\".strip()"
   ]
  },
  {
   "cell_type": "code",
   "execution_count": 535,
   "id": "40ea636a-e486-4319-813f-586656047ebb",
   "metadata": {},
   "outputs": [
    {
     "data": {
      "text/plain": [
       "2480"
      ]
     },
     "execution_count": 535,
     "metadata": {},
     "output_type": "execute_result"
    }
   ],
   "source": [
    "len(ground_truth)"
   ]
  },
  {
   "cell_type": "code",
   "execution_count": 540,
   "id": "5eec2ec7-9926-4ca7-8021-50132c8aa90f",
   "metadata": {},
   "outputs": [],
   "source": [
    "record = ground_truth[0]\n",
    "question = record['question']\n",
    "answer_llm=rag(question)"
   ]
  },
  {
   "cell_type": "code",
   "execution_count": 541,
   "id": "080f09e9-09ac-44ac-ace0-f05dcc0e95f4",
   "metadata": {},
   "outputs": [
    {
     "name": "stdout",
     "output_type": "stream",
     "text": [
      "The protein content in 100 grams of raw, skinless chicken breast is not provided in the context you've given. However, generally, raw, skinless chicken breast contains approximately 31 grams of protein per 100 grams. If you need further assistance or more specific data, please let me know!\n"
     ]
    }
   ],
   "source": [
    "print(answer_llm)"
   ]
  },
  {
   "cell_type": "code",
   "execution_count": 542,
   "id": "1b738b66-489b-4b03-86e3-2fda579c153d",
   "metadata": {},
   "outputs": [
    {
     "name": "stdout",
     "output_type": "stream",
     "text": [
      "You are an expert evaluator for a RAG system.\n",
      "Your task is to analyze the relevance of the generated answer to the given question.\n",
      "Based on the relevance of the generated answer, you will classify it\n",
      "as \"NON_RELEVANT\", \"PARTLY_RELEVANT\", or \"RELEVANT\".\n",
      "\n",
      "Here is the data for evaluation:\n",
      "\n",
      "Question: What is the protein content in 100 grams of raw, skinless chicken breast?\n",
      "Generated Answer: The protein content in 100 grams of raw, skinless chicken breast is not provided in the context you've given. However, generally, raw, skinless chicken breast contains approximately 31 grams of protein per 100 grams. If you need further assistance or more specific data, please let me know!\n",
      "\n",
      "Please analyze the content and context of the generated answer in relation to the question\n",
      "and provide your evaluation in parsable JSON without using code blocks:\n",
      "\n",
      "{\n",
      "  \"Relevance\": \"NON_RELEVANT\" | \"PARTLY_RELEVANT\" | \"RELEVANT\",\n",
      "  \"Explanation\": \"[Provide a brief explanation for your evaluation]\"\n",
      "}\n"
     ]
    }
   ],
   "source": [
    "prompt = prompt2_template.format(question=question, answer_llm=answer_llm)\n",
    "print(prompt)"
   ]
  },
  {
   "cell_type": "code",
   "execution_count": 543,
   "id": "4a20923f-d323-46c5-b20c-34c931f6b65c",
   "metadata": {},
   "outputs": [],
   "source": [
    "import json"
   ]
  },
  {
   "cell_type": "code",
   "execution_count": 544,
   "id": "de93d734-61ad-4198-83d8-93a0bcb11a35",
   "metadata": {},
   "outputs": [],
   "source": [
    "df_sample = df_question.sample(n=200, random_state=1)"
   ]
  },
  {
   "cell_type": "code",
   "execution_count": 545,
   "id": "3bed7fca-4dd1-4b66-ae68-2cd1541a6da8",
   "metadata": {},
   "outputs": [],
   "source": [
    "sample = df_sample.to_dict(orient='records')"
   ]
  },
  {
   "cell_type": "code",
   "execution_count": 556,
   "id": "97d3ebdb-150c-4286-be8e-32d582e2de1e",
   "metadata": {},
   "outputs": [
    {
     "data": {
      "application/vnd.jupyter.widget-view+json": {
       "model_id": "422def6c08274bef84cae87a590d2288",
       "version_major": 2,
       "version_minor": 0
      },
      "text/plain": [
       "  0%|          | 0/200 [00:00<?, ?it/s]"
      ]
     },
     "metadata": {},
     "output_type": "display_data"
    }
   ],
   "source": [
    "evaluations = []\n",
    "\n",
    "for record in tqdm(sample):\n",
    "    question = record['question']\n",
    "    answer_llm = rag(question) \n",
    "\n",
    "    prompt = prompt2_template.format(\n",
    "        question=question,\n",
    "        answer_llm=answer_llm\n",
    "    )\n",
    "\n",
    "    evaluation = llm(prompt)\n",
    "    evaluation = json.loads(evaluation)\n",
    "\n",
    "    evaluations.append((record, answer_llm, evaluation))"
   ]
  },
  {
   "cell_type": "code",
   "execution_count": 557,
   "id": "ddba1661-23da-4264-9fca-7960066e161e",
   "metadata": {},
   "outputs": [],
   "source": [
    "df_eval = pd.DataFrame(evaluations, columns=['record', 'answer', 'evaluation'])\n",
    "\n",
    "df_eval['id'] = df_eval.record.apply(lambda d: d['id'])\n",
    "df_eval['question'] = df_eval.record.apply(lambda d: d['question'])\n",
    "\n",
    "df_eval['relevance'] = df_eval.evaluation.apply(lambda d: d['Relevance'])\n",
    "df_eval['explanation'] = df_eval.evaluation.apply(lambda d: d['Explanation'])\n",
    "\n",
    "del df_eval['record']\n",
    "del df_eval['evaluation']"
   ]
  },
  {
   "cell_type": "code",
   "execution_count": 558,
   "id": "11bbaa9a-8204-4ea0-964e-fc1aa6288b5b",
   "metadata": {},
   "outputs": [
    {
     "data": {
      "text/plain": [
       "relevance\n",
       "RELEVANT           129\n",
       "NON_RELEVANT        43\n",
       "PARTLY_RELEVANT     28\n",
       "Name: count, dtype: int64"
      ]
     },
     "execution_count": 558,
     "metadata": {},
     "output_type": "execute_result"
    }
   ],
   "source": [
    "df_eval.relevance.value_counts()"
   ]
  },
  {
   "cell_type": "code",
   "execution_count": 548,
   "id": "93647fa3-3a44-4e48-82c0-9bacda1e4f4b",
   "metadata": {},
   "outputs": [
    {
     "data": {
      "text/plain": [
       "relevance\n",
       "RELEVANT           0.660\n",
       "NON_RELEVANT       0.175\n",
       "PARTLY_RELEVANT    0.165\n",
       "Name: proportion, dtype: float64"
      ]
     },
     "execution_count": 548,
     "metadata": {},
     "output_type": "execute_result"
    }
   ],
   "source": [
    "df_eval.relevance.value_counts(normalize=True)"
   ]
  },
  {
   "cell_type": "code",
   "execution_count": 549,
   "id": "913630ac-acd3-490a-a9a8-02e21dbd244b",
   "metadata": {},
   "outputs": [],
   "source": [
    "df_eval.to_csv('../data/rag-eval-gpt-4o-mini.csv', index=False)"
   ]
  },
  {
   "cell_type": "code",
   "execution_count": 550,
   "id": "886e465a-e919-4632-a665-a66e705378a2",
   "metadata": {},
   "outputs": [
    {
     "data": {
      "text/html": [
       "<div>\n",
       "<style scoped>\n",
       "    .dataframe tbody tr th:only-of-type {\n",
       "        vertical-align: middle;\n",
       "    }\n",
       "\n",
       "    .dataframe tbody tr th {\n",
       "        vertical-align: top;\n",
       "    }\n",
       "\n",
       "    .dataframe thead th {\n",
       "        text-align: right;\n",
       "    }\n",
       "</style>\n",
       "<table border=\"1\" class=\"dataframe\">\n",
       "  <thead>\n",
       "    <tr style=\"text-align: right;\">\n",
       "      <th></th>\n",
       "      <th>answer</th>\n",
       "      <th>id</th>\n",
       "      <th>question</th>\n",
       "      <th>relevance</th>\n",
       "      <th>explanation</th>\n",
       "    </tr>\n",
       "  </thead>\n",
       "  <tbody>\n",
       "    <tr>\n",
       "      <th>2</th>\n",
       "      <td>The amount of potassium found in 100 grams of ...</td>\n",
       "      <td>262</td>\n",
       "      <td>What is the amount of potassium found in 100 g...</td>\n",
       "      <td>NON_RELEVANT</td>\n",
       "      <td>The generated answer does not provide any spec...</td>\n",
       "    </tr>\n",
       "    <tr>\n",
       "      <th>3</th>\n",
       "      <td>The provided context does not include specific...</td>\n",
       "      <td>272</td>\n",
       "      <td>What is the calorie content per 100 grams of s...</td>\n",
       "      <td>NON_RELEVANT</td>\n",
       "      <td>The generated answer does not provide any info...</td>\n",
       "    </tr>\n",
       "    <tr>\n",
       "      <th>4</th>\n",
       "      <td>The provided context does not include informat...</td>\n",
       "      <td>303</td>\n",
       "      <td>How much protein is found in a 100 gram servin...</td>\n",
       "      <td>NON_RELEVANT</td>\n",
       "      <td>The generated answer explicitly states a lack ...</td>\n",
       "    </tr>\n",
       "    <tr>\n",
       "      <th>15</th>\n",
       "      <td>The calorie content per 100 grams of fontina c...</td>\n",
       "      <td>488</td>\n",
       "      <td>What is the calorie content per 100 grams of f...</td>\n",
       "      <td>NON_RELEVANT</td>\n",
       "      <td>The generated answer does not provide any info...</td>\n",
       "    </tr>\n",
       "    <tr>\n",
       "      <th>24</th>\n",
       "      <td>The potassium level in a 100-gram serving of w...</td>\n",
       "      <td>415</td>\n",
       "      <td>What is the potassium level in a 100-gram serv...</td>\n",
       "      <td>NON_RELEVANT</td>\n",
       "      <td>The generated answer states that the potassium...</td>\n",
       "    </tr>\n",
       "    <tr>\n",
       "      <th>38</th>\n",
       "      <td>The provided context does not contain specific...</td>\n",
       "      <td>280</td>\n",
       "      <td>How much fat is present in 100 grams of blue c...</td>\n",
       "      <td>NON_RELEVANT</td>\n",
       "      <td>The generated answer does not address the ques...</td>\n",
       "    </tr>\n",
       "    <tr>\n",
       "      <th>39</th>\n",
       "      <td>The provided context does not contain informat...</td>\n",
       "      <td>265</td>\n",
       "      <td>What minerals are present in 100 grams of toma...</td>\n",
       "      <td>NON_RELEVANT</td>\n",
       "      <td>The generated answer explicitly states that it...</td>\n",
       "    </tr>\n",
       "    <tr>\n",
       "      <th>43</th>\n",
       "      <td>The context provided does not include informat...</td>\n",
       "      <td>218</td>\n",
       "      <td>What is the amount of vitamin C found in 100 g...</td>\n",
       "      <td>NON_RELEVANT</td>\n",
       "      <td>The generated answer does not address the ques...</td>\n",
       "    </tr>\n",
       "    <tr>\n",
       "      <th>46</th>\n",
       "      <td>The context provided does not include informat...</td>\n",
       "      <td>129</td>\n",
       "      <td>What are the main vitamins present in 100 gram...</td>\n",
       "      <td>NON_RELEVANT</td>\n",
       "      <td>The generated answer does not provide any rele...</td>\n",
       "    </tr>\n",
       "    <tr>\n",
       "      <th>52</th>\n",
       "      <td>The provided context does not include informat...</td>\n",
       "      <td>358</td>\n",
       "      <td>What is the total calorie content in 100 grams...</td>\n",
       "      <td>NON_RELEVANT</td>\n",
       "      <td>The generated answer states that it cannot pro...</td>\n",
       "    </tr>\n",
       "    <tr>\n",
       "      <th>55</th>\n",
       "      <td>Blood sausage has no allergens associated with...</td>\n",
       "      <td>366</td>\n",
       "      <td>Are there any allergens associated with blood ...</td>\n",
       "      <td>NON_RELEVANT</td>\n",
       "      <td>The generated answer incorrectly states that b...</td>\n",
       "    </tr>\n",
       "    <tr>\n",
       "      <th>56</th>\n",
       "      <td>There are no allergens present in raw kiwi.</td>\n",
       "      <td>225</td>\n",
       "      <td>Are there any allergens present in raw kiwi?</td>\n",
       "      <td>NON_RELEVANT</td>\n",
       "      <td>The generated answer incorrectly states that t...</td>\n",
       "    </tr>\n",
       "    <tr>\n",
       "      <th>58</th>\n",
       "      <td>The provided context does not include informat...</td>\n",
       "      <td>171</td>\n",
       "      <td>How much protein is found in a 100 gram servin...</td>\n",
       "      <td>NON_RELEVANT</td>\n",
       "      <td>The generated answer states that there is no i...</td>\n",
       "    </tr>\n",
       "    <tr>\n",
       "      <th>59</th>\n",
       "      <td>The total fat content in chia seeds per 100 gr...</td>\n",
       "      <td>58</td>\n",
       "      <td>What is the total fat content in chia seeds pe...</td>\n",
       "      <td>NON_RELEVANT</td>\n",
       "      <td>The generated answer does not provide the requ...</td>\n",
       "    </tr>\n",
       "    <tr>\n",
       "      <th>61</th>\n",
       "      <td>The provided context does not include informat...</td>\n",
       "      <td>259</td>\n",
       "      <td>How much protein does a 100-gram serving of ca...</td>\n",
       "      <td>NON_RELEVANT</td>\n",
       "      <td>The generated answer does not address the ques...</td>\n",
       "    </tr>\n",
       "    <tr>\n",
       "      <th>78</th>\n",
       "      <td>The context provided does not include informat...</td>\n",
       "      <td>135</td>\n",
       "      <td>What is the potassium level in a 100 gram serv...</td>\n",
       "      <td>NON_RELEVANT</td>\n",
       "      <td>The generated answer indicates that there is n...</td>\n",
       "    </tr>\n",
       "    <tr>\n",
       "      <th>81</th>\n",
       "      <td>The calorie content of Mead per 100 grams is n...</td>\n",
       "      <td>305</td>\n",
       "      <td>What is the calorie content of Mead per 100 gr...</td>\n",
       "      <td>NON_RELEVANT</td>\n",
       "      <td>The generated answer states that the calorie c...</td>\n",
       "    </tr>\n",
       "    <tr>\n",
       "      <th>84</th>\n",
       "      <td>The context provided does not contain informat...</td>\n",
       "      <td>57</td>\n",
       "      <td>How many calories are in 100 grams of raw amar...</td>\n",
       "      <td>NON_RELEVANT</td>\n",
       "      <td>The generated answer explicitly states that it...</td>\n",
       "    </tr>\n",
       "    <tr>\n",
       "      <th>88</th>\n",
       "      <td>The context provided does not include informat...</td>\n",
       "      <td>98</td>\n",
       "      <td>What are the carbohydrate levels found in a 10...</td>\n",
       "      <td>NON_RELEVANT</td>\n",
       "      <td>The generated answer does not attempt to provi...</td>\n",
       "    </tr>\n",
       "    <tr>\n",
       "      <th>94</th>\n",
       "      <td>The information provided does not include the ...</td>\n",
       "      <td>434</td>\n",
       "      <td>What is the protein content in moose steak per...</td>\n",
       "      <td>NON_RELEVANT</td>\n",
       "      <td>The generated answer explicitly states that it...</td>\n",
       "    </tr>\n",
       "    <tr>\n",
       "      <th>107</th>\n",
       "      <td>The total calorie content in 100 grams of pork...</td>\n",
       "      <td>132</td>\n",
       "      <td>What is the total calorie content in 100 grams...</td>\n",
       "      <td>NON_RELEVANT</td>\n",
       "      <td>The generated answer states that the total cal...</td>\n",
       "    </tr>\n",
       "    <tr>\n",
       "      <th>108</th>\n",
       "      <td>The context provided does not include informat...</td>\n",
       "      <td>409</td>\n",
       "      <td>What are the key vitamins found in 100 grams o...</td>\n",
       "      <td>NON_RELEVANT</td>\n",
       "      <td>The generated answer does not provide any info...</td>\n",
       "    </tr>\n",
       "    <tr>\n",
       "      <th>121</th>\n",
       "      <td>The provided context does not include informat...</td>\n",
       "      <td>346</td>\n",
       "      <td>How many calories are there in a 100-gram serv...</td>\n",
       "      <td>NON_RELEVANT</td>\n",
       "      <td>The generated answer states that it cannot det...</td>\n",
       "    </tr>\n",
       "    <tr>\n",
       "      <th>122</th>\n",
       "      <td>The context provided does not contain informat...</td>\n",
       "      <td>400</td>\n",
       "      <td>What is the protein content in 100 grams of ra...</td>\n",
       "      <td>NON_RELEVANT</td>\n",
       "      <td>The generated answer does not address the ques...</td>\n",
       "    </tr>\n",
       "    <tr>\n",
       "      <th>130</th>\n",
       "      <td>The provided context does not include any info...</td>\n",
       "      <td>458</td>\n",
       "      <td>What is the amount of protein in buttermilk pe...</td>\n",
       "      <td>NON_RELEVANT</td>\n",
       "      <td>The generated answer states that it cannot pro...</td>\n",
       "    </tr>\n",
       "    <tr>\n",
       "      <th>145</th>\n",
       "      <td>The fat content in Mortadella per 100 grams is...</td>\n",
       "      <td>358</td>\n",
       "      <td>What is the fat content in Mortadella per 100 ...</td>\n",
       "      <td>NON_RELEVANT</td>\n",
       "      <td>The generated answer fails to provide any info...</td>\n",
       "    </tr>\n",
       "    <tr>\n",
       "      <th>149</th>\n",
       "      <td>The serving size of Soju is 100 grams.</td>\n",
       "      <td>304</td>\n",
       "      <td>What is the serving size of Soju in grams?</td>\n",
       "      <td>NON_RELEVANT</td>\n",
       "      <td>The question specifically asks for the serving...</td>\n",
       "    </tr>\n",
       "    <tr>\n",
       "      <th>160</th>\n",
       "      <td>The calorie content of 100 grams of raw horse ...</td>\n",
       "      <td>405</td>\n",
       "      <td>What is the calorie content of 100 grams of ra...</td>\n",
       "      <td>NON_RELEVANT</td>\n",
       "      <td>The generated answer does not provide any info...</td>\n",
       "    </tr>\n",
       "    <tr>\n",
       "      <th>167</th>\n",
       "      <td>The provided context does not include data for...</td>\n",
       "      <td>351</td>\n",
       "      <td>How much potassium does 100 grams of raw bacon...</td>\n",
       "      <td>NON_RELEVANT</td>\n",
       "      <td>The generated answer does not provide any info...</td>\n",
       "    </tr>\n",
       "    <tr>\n",
       "      <th>170</th>\n",
       "      <td>The allergen associated with drinking whiskey ...</td>\n",
       "      <td>102</td>\n",
       "      <td>What allergens are associated with drinking wh...</td>\n",
       "      <td>NON_RELEVANT</td>\n",
       "      <td>The generated answer only mentions alcohol as ...</td>\n",
       "    </tr>\n",
       "    <tr>\n",
       "      <th>173</th>\n",
       "      <td>The context provided does not include informat...</td>\n",
       "      <td>248</td>\n",
       "      <td>How much protein is present in a 100-gram serv...</td>\n",
       "      <td>NON_RELEVANT</td>\n",
       "      <td>The generated answer explicitly states that it...</td>\n",
       "    </tr>\n",
       "    <tr>\n",
       "      <th>185</th>\n",
       "      <td>There are no allergens associated with eating ...</td>\n",
       "      <td>226</td>\n",
       "      <td>Are there any allergens associated with eating...</td>\n",
       "      <td>NON_RELEVANT</td>\n",
       "      <td>The generated answer states there are no aller...</td>\n",
       "    </tr>\n",
       "    <tr>\n",
       "      <th>188</th>\n",
       "      <td>The context provided does not include specific...</td>\n",
       "      <td>159</td>\n",
       "      <td>How many calories are in a 100 gram serving of...</td>\n",
       "      <td>NON_RELEVANT</td>\n",
       "      <td>The generated answer does not attempt to answe...</td>\n",
       "    </tr>\n",
       "    <tr>\n",
       "      <th>194</th>\n",
       "      <td>There are no allergens present in raw pheasant...</td>\n",
       "      <td>410</td>\n",
       "      <td>Is there any allergen present in raw pheasant ...</td>\n",
       "      <td>NON_RELEVANT</td>\n",
       "      <td>The generated answer incorrectly states that t...</td>\n",
       "    </tr>\n",
       "    <tr>\n",
       "      <th>199</th>\n",
       "      <td>The context provided does not include informat...</td>\n",
       "      <td>358</td>\n",
       "      <td>How much protein is present in a 100-gram serv...</td>\n",
       "      <td>NON_RELEVANT</td>\n",
       "      <td>The generated answer states that it cannot pro...</td>\n",
       "    </tr>\n",
       "  </tbody>\n",
       "</table>\n",
       "</div>"
      ],
      "text/plain": [
       "                                                answer   id  \\\n",
       "2    The amount of potassium found in 100 grams of ...  262   \n",
       "3    The provided context does not include specific...  272   \n",
       "4    The provided context does not include informat...  303   \n",
       "15   The calorie content per 100 grams of fontina c...  488   \n",
       "24   The potassium level in a 100-gram serving of w...  415   \n",
       "38   The provided context does not contain specific...  280   \n",
       "39   The provided context does not contain informat...  265   \n",
       "43   The context provided does not include informat...  218   \n",
       "46   The context provided does not include informat...  129   \n",
       "52   The provided context does not include informat...  358   \n",
       "55   Blood sausage has no allergens associated with...  366   \n",
       "56         There are no allergens present in raw kiwi.  225   \n",
       "58   The provided context does not include informat...  171   \n",
       "59   The total fat content in chia seeds per 100 gr...   58   \n",
       "61   The provided context does not include informat...  259   \n",
       "78   The context provided does not include informat...  135   \n",
       "81   The calorie content of Mead per 100 grams is n...  305   \n",
       "84   The context provided does not contain informat...   57   \n",
       "88   The context provided does not include informat...   98   \n",
       "94   The information provided does not include the ...  434   \n",
       "107  The total calorie content in 100 grams of pork...  132   \n",
       "108  The context provided does not include informat...  409   \n",
       "121  The provided context does not include informat...  346   \n",
       "122  The context provided does not contain informat...  400   \n",
       "130  The provided context does not include any info...  458   \n",
       "145  The fat content in Mortadella per 100 grams is...  358   \n",
       "149             The serving size of Soju is 100 grams.  304   \n",
       "160  The calorie content of 100 grams of raw horse ...  405   \n",
       "167  The provided context does not include data for...  351   \n",
       "170  The allergen associated with drinking whiskey ...  102   \n",
       "173  The context provided does not include informat...  248   \n",
       "185  There are no allergens associated with eating ...  226   \n",
       "188  The context provided does not include specific...  159   \n",
       "194  There are no allergens present in raw pheasant...  410   \n",
       "199  The context provided does not include informat...  358   \n",
       "\n",
       "                                              question     relevance  \\\n",
       "2    What is the amount of potassium found in 100 g...  NON_RELEVANT   \n",
       "3    What is the calorie content per 100 grams of s...  NON_RELEVANT   \n",
       "4    How much protein is found in a 100 gram servin...  NON_RELEVANT   \n",
       "15   What is the calorie content per 100 grams of f...  NON_RELEVANT   \n",
       "24   What is the potassium level in a 100-gram serv...  NON_RELEVANT   \n",
       "38   How much fat is present in 100 grams of blue c...  NON_RELEVANT   \n",
       "39   What minerals are present in 100 grams of toma...  NON_RELEVANT   \n",
       "43   What is the amount of vitamin C found in 100 g...  NON_RELEVANT   \n",
       "46   What are the main vitamins present in 100 gram...  NON_RELEVANT   \n",
       "52   What is the total calorie content in 100 grams...  NON_RELEVANT   \n",
       "55   Are there any allergens associated with blood ...  NON_RELEVANT   \n",
       "56        Are there any allergens present in raw kiwi?  NON_RELEVANT   \n",
       "58   How much protein is found in a 100 gram servin...  NON_RELEVANT   \n",
       "59   What is the total fat content in chia seeds pe...  NON_RELEVANT   \n",
       "61   How much protein does a 100-gram serving of ca...  NON_RELEVANT   \n",
       "78   What is the potassium level in a 100 gram serv...  NON_RELEVANT   \n",
       "81   What is the calorie content of Mead per 100 gr...  NON_RELEVANT   \n",
       "84   How many calories are in 100 grams of raw amar...  NON_RELEVANT   \n",
       "88   What are the carbohydrate levels found in a 10...  NON_RELEVANT   \n",
       "94   What is the protein content in moose steak per...  NON_RELEVANT   \n",
       "107  What is the total calorie content in 100 grams...  NON_RELEVANT   \n",
       "108  What are the key vitamins found in 100 grams o...  NON_RELEVANT   \n",
       "121  How many calories are there in a 100-gram serv...  NON_RELEVANT   \n",
       "122  What is the protein content in 100 grams of ra...  NON_RELEVANT   \n",
       "130  What is the amount of protein in buttermilk pe...  NON_RELEVANT   \n",
       "145  What is the fat content in Mortadella per 100 ...  NON_RELEVANT   \n",
       "149         What is the serving size of Soju in grams?  NON_RELEVANT   \n",
       "160  What is the calorie content of 100 grams of ra...  NON_RELEVANT   \n",
       "167  How much potassium does 100 grams of raw bacon...  NON_RELEVANT   \n",
       "170  What allergens are associated with drinking wh...  NON_RELEVANT   \n",
       "173  How much protein is present in a 100-gram serv...  NON_RELEVANT   \n",
       "185  Are there any allergens associated with eating...  NON_RELEVANT   \n",
       "188  How many calories are in a 100 gram serving of...  NON_RELEVANT   \n",
       "194  Is there any allergen present in raw pheasant ...  NON_RELEVANT   \n",
       "199  How much protein is present in a 100-gram serv...  NON_RELEVANT   \n",
       "\n",
       "                                           explanation  \n",
       "2    The generated answer does not provide any spec...  \n",
       "3    The generated answer does not provide any info...  \n",
       "4    The generated answer explicitly states a lack ...  \n",
       "15   The generated answer does not provide any info...  \n",
       "24   The generated answer states that the potassium...  \n",
       "38   The generated answer does not address the ques...  \n",
       "39   The generated answer explicitly states that it...  \n",
       "43   The generated answer does not address the ques...  \n",
       "46   The generated answer does not provide any rele...  \n",
       "52   The generated answer states that it cannot pro...  \n",
       "55   The generated answer incorrectly states that b...  \n",
       "56   The generated answer incorrectly states that t...  \n",
       "58   The generated answer states that there is no i...  \n",
       "59   The generated answer does not provide the requ...  \n",
       "61   The generated answer does not address the ques...  \n",
       "78   The generated answer indicates that there is n...  \n",
       "81   The generated answer states that the calorie c...  \n",
       "84   The generated answer explicitly states that it...  \n",
       "88   The generated answer does not attempt to provi...  \n",
       "94   The generated answer explicitly states that it...  \n",
       "107  The generated answer states that the total cal...  \n",
       "108  The generated answer does not provide any info...  \n",
       "121  The generated answer states that it cannot det...  \n",
       "122  The generated answer does not address the ques...  \n",
       "130  The generated answer states that it cannot pro...  \n",
       "145  The generated answer fails to provide any info...  \n",
       "149  The question specifically asks for the serving...  \n",
       "160  The generated answer does not provide any info...  \n",
       "167  The generated answer does not provide any info...  \n",
       "170  The generated answer only mentions alcohol as ...  \n",
       "173  The generated answer explicitly states that it...  \n",
       "185  The generated answer states there are no aller...  \n",
       "188  The generated answer does not attempt to answe...  \n",
       "194  The generated answer incorrectly states that t...  \n",
       "199  The generated answer states that it cannot pro...  "
      ]
     },
     "execution_count": 550,
     "metadata": {},
     "output_type": "execute_result"
    }
   ],
   "source": [
    "df_eval[df_eval.relevance == 'NON_RELEVANT']"
   ]
  },
  {
   "cell_type": "code",
   "execution_count": 551,
   "id": "1bf1e26c-335b-41c1-9999-3671100ca3f8",
   "metadata": {},
   "outputs": [
    {
     "data": {
      "application/vnd.jupyter.widget-view+json": {
       "model_id": "71e18aa4f4bf4bb29d47e865481ea6de",
       "version_major": 2,
       "version_minor": 0
      },
      "text/plain": [
       "  0%|          | 0/200 [00:00<?, ?it/s]"
      ]
     },
     "metadata": {},
     "output_type": "display_data"
    }
   ],
   "source": [
    "evaluations_gpt4o = []\n",
    "\n",
    "for record in tqdm(sample):\n",
    "    question = record['question']\n",
    "    answer_llm = rag(question, model='gpt-4o') \n",
    "\n",
    "    prompt = prompt2_template.format(\n",
    "        question=question,\n",
    "        answer_llm=answer_llm\n",
    "    )\n",
    "\n",
    "    evaluation = llm(prompt)\n",
    "    evaluation = json.loads(evaluation)\n",
    "    \n",
    "    evaluations_gpt4o.append((record, answer_llm, evaluation))"
   ]
  },
  {
   "cell_type": "code",
   "execution_count": 552,
   "id": "31ee9b8e-5e7e-4967-bd0b-3f45db837465",
   "metadata": {},
   "outputs": [],
   "source": [
    "df_eval = pd.DataFrame(evaluations_gpt4o, columns=['record', 'answer', 'evaluation'])\n",
    "\n",
    "df_eval['id'] = df_eval.record.apply(lambda d: d['id'])\n",
    "df_eval['question'] = df_eval.record.apply(lambda d: d['question'])\n",
    "\n",
    "df_eval['relevance'] = df_eval.evaluation.apply(lambda d: d['Relevance'])\n",
    "df_eval['explanation'] = df_eval.evaluation.apply(lambda d: d['Explanation'])\n",
    "\n",
    "del df_eval['record']\n",
    "del df_eval['evaluation']\n"
   ]
  },
  {
   "cell_type": "code",
   "execution_count": 553,
   "id": "7c994352-2725-4a3e-a6e0-1790ac7a5436",
   "metadata": {},
   "outputs": [
    {
     "data": {
      "text/plain": [
       "relevance\n",
       "RELEVANT           148\n",
       "PARTLY_RELEVANT     37\n",
       "NON_RELEVANT        15\n",
       "Name: count, dtype: int64"
      ]
     },
     "execution_count": 553,
     "metadata": {},
     "output_type": "execute_result"
    }
   ],
   "source": [
    "df_eval.relevance.value_counts()"
   ]
  },
  {
   "cell_type": "code",
   "execution_count": 554,
   "id": "7f658e28-7c4d-4795-84f4-4fbb47010d6a",
   "metadata": {},
   "outputs": [
    {
     "data": {
      "text/plain": [
       "relevance\n",
       "RELEVANT           0.740\n",
       "PARTLY_RELEVANT    0.185\n",
       "NON_RELEVANT       0.075\n",
       "Name: proportion, dtype: float64"
      ]
     },
     "execution_count": 554,
     "metadata": {},
     "output_type": "execute_result"
    }
   ],
   "source": [
    "df_eval.relevance.value_counts(normalize=True)"
   ]
  },
  {
   "cell_type": "code",
   "execution_count": 559,
   "id": "7ad606fa-f38c-426e-96b2-ca92107b582a",
   "metadata": {},
   "outputs": [],
   "source": [
    "df_eval.to_csv('../data/rag-eval-gpt-4o.csv', index=False)"
   ]
  },
  {
   "cell_type": "code",
   "execution_count": null,
   "id": "b3204140-f15b-40c0-a9a6-83ac7aef8f9e",
   "metadata": {},
   "outputs": [],
   "source": []
  }
 ],
 "metadata": {
  "kernelspec": {
   "display_name": "Python 3 (ipykernel)",
   "language": "python",
   "name": "python3"
  },
  "language_info": {
   "codemirror_mode": {
    "name": "ipython",
    "version": 3
   },
   "file_extension": ".py",
   "mimetype": "text/x-python",
   "name": "python",
   "nbconvert_exporter": "python",
   "pygments_lexer": "ipython3",
   "version": "3.12.1"
  }
 },
 "nbformat": 4,
 "nbformat_minor": 5
}
